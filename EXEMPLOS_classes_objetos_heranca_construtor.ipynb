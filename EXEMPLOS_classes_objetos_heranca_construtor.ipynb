{
  "nbformat": 4,
  "nbformat_minor": 0,
  "metadata": {
    "colab": {
      "name": "EXEMPLOS_classes_objetos_heranca_construtor.ipynb",
      "provenance": [],
      "authorship_tag": "ABX9TyP9lzz3CJeHUPfw4iljhL4E",
      "include_colab_link": true
    },
    "kernelspec": {
      "name": "python3",
      "display_name": "Python 3"
    }
  },
  "cells": [
    {
      "cell_type": "markdown",
      "metadata": {
        "id": "view-in-github",
        "colab_type": "text"
      },
      "source": [
        "<a href=\"https://colab.research.google.com/github/EddyGiusepe/Exercicios_classes_herenca_Python/blob/main/EXEMPLOS_classes_objetos_heranca_construtor.ipynb\" target=\"_parent\"><img src=\"https://colab.research.google.com/assets/colab-badge.svg\" alt=\"Open In Colab\"/></a>"
      ]
    },
    {
      "cell_type": "markdown",
      "metadata": {
        "id": "gJXOrJpSQChb"
      },
      "source": [
        "# Python: classes, objetos, herença e construtor\r\n",
        "\r\n",
        "## Exercícios:\r\n",
        "\r\n",
        "### Exercício 1:\r\n",
        "\r\n",
        "Neste primeiro exercício criamos apenas uma classe (``DidaticaTech``)."
      ]
    },
    {
      "cell_type": "code",
      "metadata": {
        "id": "prXCfVbzP5va"
      },
      "source": [
        "class DidaticaTech:\r\n",
        "\r\n",
        "  def __init__(self, v=10, i=1):\r\n",
        "    self.valor = v\r\n",
        "    self.incremento = i\r\n",
        "    self.valor_exponencial = v\r\n",
        "\r\n",
        "  def incrementa(self):\r\n",
        "    self.valor = self.valor + self.incremento\r\n",
        "\r\n",
        "  def verifica(self):\r\n",
        "    if self.valor > 12:\r\n",
        "      print(\"Ultrapassou 12\")\r\n",
        "    else:\r\n",
        "      print(\"Não ultrapassou 12\")\r\n",
        "\r\n",
        "  def exponencial(self, e):\r\n",
        "    self.valor_exponencial = self.valor**e\r\n",
        "\r\n",
        "  def incrementa_quadrado(self):\r\n",
        "    self.incrementa()\r\n",
        "    self.exponencial(2)      \r\n"
      ],
      "execution_count": 1,
      "outputs": []
    },
    {
      "cell_type": "code",
      "metadata": {
        "id": "1qn1WAIGVVLn"
      },
      "source": [
        "# Instanciamos\r\n",
        "# A \"DidaticaTech()\", agora está dentro do objeto \"a\"\r\n",
        "a = DidaticaTech()\r\n"
      ],
      "execution_count": 3,
      "outputs": []
    },
    {
      "cell_type": "code",
      "metadata": {
        "id": "_WiIayJaVyW-"
      },
      "source": [
        "# Usando nosso método \"incementa\" \r\n",
        "a.incrementa()"
      ],
      "execution_count": 4,
      "outputs": []
    },
    {
      "cell_type": "code",
      "metadata": {
        "colab": {
          "base_uri": "https://localhost:8080/"
        },
        "id": "JOiOeMA1WS7s",
        "outputId": "d6a2f7f0-57a0-4f17-d750-145a4d7121ae"
      },
      "source": [
        "print(a.valor)\r\n",
        " "
      ],
      "execution_count": 5,
      "outputs": [
        {
          "output_type": "stream",
          "text": [
            "11\n"
          ],
          "name": "stdout"
        }
      ]
    },
    {
      "cell_type": "code",
      "metadata": {
        "colab": {
          "base_uri": "https://localhost:8080/"
        },
        "id": "TUDOR8FHWYpC",
        "outputId": "be365102-ebc7-47b5-cab0-751d73b4f31a"
      },
      "source": [
        "# Nosso outro método:\r\n",
        "a.verifica()\r\n"
      ],
      "execution_count": 6,
      "outputs": [
        {
          "output_type": "stream",
          "text": [
            "Não ultrapassou 12\n"
          ],
          "name": "stdout"
        }
      ]
    },
    {
      "cell_type": "code",
      "metadata": {
        "id": "Xe-44CxQWz54"
      },
      "source": [
        "# Outro método:\r\n",
        "\r\n",
        "a.exponencial(3)"
      ],
      "execution_count": 7,
      "outputs": []
    },
    {
      "cell_type": "code",
      "metadata": {
        "colab": {
          "base_uri": "https://localhost:8080/"
        },
        "id": "_YNTO2QnXLF6",
        "outputId": "24fed3a8-48ae-4e9f-b8cb-2d08fd85676a"
      },
      "source": [
        "# O resultado será:\r\n",
        "\r\n",
        "a.valor_exponencial"
      ],
      "execution_count": 8,
      "outputs": [
        {
          "output_type": "execute_result",
          "data": {
            "text/plain": [
              "1331"
            ]
          },
          "metadata": {
            "tags": []
          },
          "execution_count": 8
        }
      ]
    },
    {
      "cell_type": "code",
      "metadata": {
        "id": "nzGVwlkxXcUh"
      },
      "source": [
        "#  Mais outro método:\r\n",
        "\r\n",
        "a.incrementa_quadrado()\r\n"
      ],
      "execution_count": 9,
      "outputs": []
    },
    {
      "cell_type": "code",
      "metadata": {
        "colab": {
          "base_uri": "https://localhost:8080/"
        },
        "id": "WG6NNnOdXoxX",
        "outputId": "0e5f3e37-9f57-4631-c9b4-47cbf8d4d4c9"
      },
      "source": [
        "\r\n",
        "a.valor\r\n"
      ],
      "execution_count": 12,
      "outputs": [
        {
          "output_type": "execute_result",
          "data": {
            "text/plain": [
              "12"
            ]
          },
          "metadata": {
            "tags": []
          },
          "execution_count": 12
        }
      ]
    },
    {
      "cell_type": "code",
      "metadata": {
        "colab": {
          "base_uri": "https://localhost:8080/"
        },
        "id": "R62g_ecPXq9p",
        "outputId": "01446f64-1610-407e-b7a8-fdf809c03651"
      },
      "source": [
        "a.valor_exponencial"
      ],
      "execution_count": 13,
      "outputs": [
        {
          "output_type": "execute_result",
          "data": {
            "text/plain": [
              "144"
            ]
          },
          "metadata": {
            "tags": []
          },
          "execution_count": 13
        }
      ]
    },
    {
      "cell_type": "code",
      "metadata": {
        "id": "9K6BiBTRYDux"
      },
      "source": [
        "# Outro Objeto com diferentes atributos:\r\n",
        "\r\n",
        "b = DidaticaTech(50, 5)"
      ],
      "execution_count": 17,
      "outputs": []
    },
    {
      "cell_type": "code",
      "metadata": {
        "id": "0TdHhdeoYmcY"
      },
      "source": [
        "b.incrementa()"
      ],
      "execution_count": 18,
      "outputs": []
    },
    {
      "cell_type": "code",
      "metadata": {
        "colab": {
          "base_uri": "https://localhost:8080/"
        },
        "id": "P_GgZp_PYpc7",
        "outputId": "7d63d66c-2b3d-4c5c-c014-65c96412e65c"
      },
      "source": [
        "b.valor"
      ],
      "execution_count": 19,
      "outputs": [
        {
          "output_type": "execute_result",
          "data": {
            "text/plain": [
              "55"
            ]
          },
          "metadata": {
            "tags": []
          },
          "execution_count": 19
        }
      ]
    },
    {
      "cell_type": "markdown",
      "metadata": {
        "id": "wJLANkLaaUdY"
      },
      "source": [
        "### Exercício 2:\r\n",
        "\r\n",
        "Neste segundo exercício criamos uma classe que depende da classe anterior (``DidaticaTech``). Isso se chama ``Herença``. Vejamos:"
      ]
    },
    {
      "cell_type": "code",
      "metadata": {
        "id": "l5MT8HIdYrD4"
      },
      "source": [
        "# \"pass\" --> não faz nada (código vazio)\r\n",
        "# Obs: A minha classe \"Calculos\" heredou tudo os métodos da minha classe \"DidaticaTech\"\r\n",
        "class Calculos(DidaticaTech):\r\n",
        "  pass"
      ],
      "execution_count": 20,
      "outputs": []
    },
    {
      "cell_type": "code",
      "metadata": {
        "id": "vvISfnazb4WJ"
      },
      "source": [
        "c = Calculos()"
      ],
      "execution_count": 21,
      "outputs": []
    },
    {
      "cell_type": "code",
      "metadata": {
        "id": "Tn1rVSxkcMkg"
      },
      "source": [
        "c.incrementa()"
      ],
      "execution_count": 22,
      "outputs": []
    },
    {
      "cell_type": "code",
      "metadata": {
        "colab": {
          "base_uri": "https://localhost:8080/"
        },
        "id": "fowXuAbycRUx",
        "outputId": "9d1b26fd-0d7e-49b8-b1d1-407bf2c13895"
      },
      "source": [
        "c.valor"
      ],
      "execution_count": 23,
      "outputs": [
        {
          "output_type": "execute_result",
          "data": {
            "text/plain": [
              "11"
            ]
          },
          "metadata": {
            "tags": []
          },
          "execution_count": 23
        }
      ]
    },
    {
      "cell_type": "markdown",
      "metadata": {
        "id": "QZ0whd9cccPk"
      },
      "source": [
        "### Exercício 3:\r\n",
        "\r\n",
        "Neste terceiro exercício podemos criar um método dentro da nossa classe ``Calculos``."
      ]
    },
    {
      "cell_type": "code",
      "metadata": {
        "id": "tI8nFfdxcUAm"
      },
      "source": [
        "class Calculos(DidaticaTech):\r\n",
        "  def decrementa(self):\r\n",
        "    self.valor = self.valor - self.incremento"
      ],
      "execution_count": 24,
      "outputs": []
    },
    {
      "cell_type": "code",
      "metadata": {
        "id": "N_UgG67Pc8z7"
      },
      "source": [
        "c = Calculos()"
      ],
      "execution_count": 25,
      "outputs": []
    },
    {
      "cell_type": "code",
      "metadata": {
        "id": "x4G4RD5FdAwm"
      },
      "source": [
        "c.incrementa()"
      ],
      "execution_count": 26,
      "outputs": []
    },
    {
      "cell_type": "code",
      "metadata": {
        "colab": {
          "base_uri": "https://localhost:8080/"
        },
        "id": "RywYWGcTdCuV",
        "outputId": "65cdeaa6-ca6e-48f3-81ab-d1be24531926"
      },
      "source": [
        "c.valor"
      ],
      "execution_count": 27,
      "outputs": [
        {
          "output_type": "execute_result",
          "data": {
            "text/plain": [
              "11"
            ]
          },
          "metadata": {
            "tags": []
          },
          "execution_count": 27
        }
      ]
    },
    {
      "cell_type": "code",
      "metadata": {
        "id": "-jby-154dFZV"
      },
      "source": [
        "# Mas também podemos usar a nosso método decrementa\r\n",
        "c.decrementa()"
      ],
      "execution_count": 28,
      "outputs": []
    },
    {
      "cell_type": "code",
      "metadata": {
        "colab": {
          "base_uri": "https://localhost:8080/"
        },
        "id": "W4IDDhfmdRFc",
        "outputId": "7ab6dded-e3db-410d-8415-a0b55ec6ac11"
      },
      "source": [
        "c.valor"
      ],
      "execution_count": 29,
      "outputs": [
        {
          "output_type": "execute_result",
          "data": {
            "text/plain": [
              "10"
            ]
          },
          "metadata": {
            "tags": []
          },
          "execution_count": 29
        }
      ]
    },
    {
      "cell_type": "markdown",
      "metadata": {
        "id": "0ZfZCiwFduek"
      },
      "source": [
        "### Exercício 4:\r\n",
        "\r\n",
        "Neste quarto exercício podemos criar outro método construtor (``__init__``), outros atributos e outros métodos. Assim:"
      ]
    },
    {
      "cell_type": "code",
      "metadata": {
        "id": "uwTxBJOYdSp9"
      },
      "source": [
        "class Calculos(DidaticaTech):\r\n",
        "  def __init__(self, d=5):\r\n",
        "    super().__init__(v=10, i=1)\r\n",
        "    self.divisor = d \r\n",
        "  \r\n",
        "  def decrementa(self):\r\n",
        "    self.valor =self.valor - self.incremento\r\n",
        "  \r\n",
        "  def divide(self):\r\n",
        "    self.valor = self.valor/self.divisor"
      ],
      "execution_count": 48,
      "outputs": []
    },
    {
      "cell_type": "code",
      "metadata": {
        "id": "_Qfdn1q0fAsp"
      },
      "source": [
        "c = Calculos()"
      ],
      "execution_count": 49,
      "outputs": []
    },
    {
      "cell_type": "code",
      "metadata": {
        "id": "ErTdXXLOfEGT"
      },
      "source": [
        "# IMPORTANTE:\r\n",
        "# Quando você define outro construtor ele perde a herença do pai\r\n",
        "# Para evitar isso, usamos \"super()\"; tal como se mostra acima\r\n",
        "c.incrementa()"
      ],
      "execution_count": 50,
      "outputs": []
    },
    {
      "cell_type": "code",
      "metadata": {
        "colab": {
          "base_uri": "https://localhost:8080/"
        },
        "id": "frNiEGbEgx-E",
        "outputId": "7f3a834f-d436-4d12-b019-5bc30a70b565"
      },
      "source": [
        "c.valor"
      ],
      "execution_count": 51,
      "outputs": [
        {
          "output_type": "execute_result",
          "data": {
            "text/plain": [
              "11"
            ]
          },
          "metadata": {
            "tags": []
          },
          "execution_count": 51
        }
      ]
    },
    {
      "cell_type": "code",
      "metadata": {
        "id": "7unVfyvXhHHq"
      },
      "source": [
        "c.decrementa()"
      ],
      "execution_count": 52,
      "outputs": []
    },
    {
      "cell_type": "code",
      "metadata": {
        "id": "phLjgZaVfGcW"
      },
      "source": [
        "c.divide()"
      ],
      "execution_count": 53,
      "outputs": []
    },
    {
      "cell_type": "code",
      "metadata": {
        "colab": {
          "base_uri": "https://localhost:8080/"
        },
        "id": "lL08hRRigwjT",
        "outputId": "8eba38af-bffd-4705-8cd1-707d9fd7595c"
      },
      "source": [
        "c.valor"
      ],
      "execution_count": 54,
      "outputs": [
        {
          "output_type": "execute_result",
          "data": {
            "text/plain": [
              "2.0"
            ]
          },
          "metadata": {
            "tags": []
          },
          "execution_count": 54
        }
      ]
    },
    {
      "cell_type": "code",
      "metadata": {
        "id": "cXoT0RJEhaPV"
      },
      "source": [
        ""
      ],
      "execution_count": null,
      "outputs": []
    }
  ]
}